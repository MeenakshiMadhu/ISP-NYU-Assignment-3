{
  "nbformat": 4,
  "nbformat_minor": 0,
  "metadata": {
    "colab": {
      "provenance": []
    },
    "kernelspec": {
      "name": "python3",
      "display_name": "Python 3"
    },
    "language_info": {
      "name": "python"
    }
  },
  "cells": [
    {
      "cell_type": "code",
      "execution_count": null,
      "metadata": {
        "id": "9J8z8BleapD5",
        "colab": {
          "base_uri": "https://localhost:8080/"
        },
        "collapsed": true,
        "outputId": "7868c39a-ae71-4043-aa52-c71c04b2d626"
      },
      "outputs": [
        {
          "output_type": "stream",
          "name": "stdout",
          "text": [
            "\r0% [Working]\r            \rGet:1 https://cloud.r-project.org/bin/linux/ubuntu jammy-cran40/ InRelease [3,626 B]\n",
            "Hit:2 https://developer.download.nvidia.com/compute/cuda/repos/ubuntu2204/x86_64  InRelease\n",
            "Get:3 https://r2u.stat.illinois.edu/ubuntu jammy InRelease [6,555 B]\n",
            "Get:4 http://security.ubuntu.com/ubuntu jammy-security InRelease [129 kB]\n",
            "Hit:5 http://archive.ubuntu.com/ubuntu jammy InRelease\n",
            "Get:6 http://archive.ubuntu.com/ubuntu jammy-updates InRelease [128 kB]\n",
            "Get:7 https://r2u.stat.illinois.edu/ubuntu jammy/main amd64 Packages [2,619 kB]\n",
            "Hit:8 https://ppa.launchpadcontent.net/deadsnakes/ppa/ubuntu jammy InRelease\n",
            "Hit:9 https://ppa.launchpadcontent.net/graphics-drivers/ppa/ubuntu jammy InRelease\n",
            "Hit:10 https://ppa.launchpadcontent.net/ubuntugis/ppa/ubuntu jammy InRelease\n",
            "Get:11 https://r2u.stat.illinois.edu/ubuntu jammy/main all Packages [8,514 kB]\n",
            "Get:12 http://archive.ubuntu.com/ubuntu jammy-backports InRelease [127 kB]\n",
            "Get:13 http://security.ubuntu.com/ubuntu jammy-security/universe amd64 Packages [1,224 kB]\n",
            "Get:14 http://archive.ubuntu.com/ubuntu jammy-updates/universe amd64 Packages [1,513 kB]\n",
            "Get:15 http://security.ubuntu.com/ubuntu jammy-security/main amd64 Packages [2,454 kB]\n",
            "Get:16 http://archive.ubuntu.com/ubuntu jammy-updates/main amd64 Packages [2,738 kB]\n",
            "Get:17 http://archive.ubuntu.com/ubuntu jammy-backports/universe amd64 Packages [33.8 kB]\n",
            "Fetched 19.5 MB in 3s (7,130 kB/s)\n",
            "Reading package lists... Done\n",
            "W: Skipping acquire of configured file 'main/source/Sources' as repository 'https://r2u.stat.illinois.edu/ubuntu jammy InRelease' does not seem to provide it (sources.list entry misspelt?)\n",
            "Reading package lists... Done\n",
            "Building dependency tree... Done\n",
            "Reading state information... Done\n",
            "cmake is already the newest version (3.22.1-1ubuntu1.22.04.2).\n",
            "libssl-dev is already the newest version (3.0.2-0ubuntu1.18).\n",
            "0 upgraded, 0 newly installed, 0 to remove and 59 not upgraded.\n"
          ]
        }
      ],
      "source": [
        "!sudo apt-get update\n",
        "!sudo apt-get install cmake libssl-dev"
      ]
    },
    {
      "cell_type": "code",
      "source": [
        "!git clone https://github.com/open-quantum-safe/liboqs-python.git"
      ],
      "metadata": {
        "colab": {
          "base_uri": "https://localhost:8080/"
        },
        "id": "-A-L0DcQ0Rya",
        "outputId": "d1e58fd8-3282-451b-8e27-48212233179e",
        "collapsed": true
      },
      "execution_count": null,
      "outputs": [
        {
          "output_type": "stream",
          "name": "stdout",
          "text": [
            "Cloning into 'liboqs-python'...\n",
            "remote: Enumerating objects: 663, done.\u001b[K\n",
            "remote: Counting objects: 100% (230/230), done.\u001b[K\n",
            "remote: Compressing objects: 100% (81/81), done.\u001b[K\n",
            "remote: Total 663 (delta 183), reused 167 (delta 148), pack-reused 433 (from 1)\u001b[K\n",
            "Receiving objects: 100% (663/663), 139.71 KiB | 5.59 MiB/s, done.\n",
            "Resolving deltas: 100% (340/340), done.\n"
          ]
        }
      ]
    },
    {
      "cell_type": "code",
      "source": [
        "%cd liboqs-python\n",
        "!python3 setup.py build\n",
        "!python3 setup.py install"
      ],
      "metadata": {
        "colab": {
          "base_uri": "https://localhost:8080/"
        },
        "id": "Iv7475qV0qba",
        "outputId": "b1b46355-e0d7-4c3a-d0d0-a96cacc9d6c2",
        "collapsed": true
      },
      "execution_count": null,
      "outputs": [
        {
          "output_type": "stream",
          "name": "stdout",
          "text": [
            "/content/liboqs-python\n",
            "running build\n",
            "running build_py\n",
            "creating build/lib/oqs\n",
            "copying oqs/__init__.py -> build/lib/oqs\n",
            "copying oqs/rand.py -> build/lib/oqs\n",
            "copying oqs/oqs.py -> build/lib/oqs\n",
            "running egg_info\n",
            "creating liboqs_python.egg-info\n",
            "writing liboqs_python.egg-info/PKG-INFO\n",
            "writing dependency_links to liboqs_python.egg-info/dependency_links.txt\n",
            "writing requirements to liboqs_python.egg-info/requires.txt\n",
            "writing top-level names to liboqs_python.egg-info/top_level.txt\n",
            "writing manifest file 'liboqs_python.egg-info/SOURCES.txt'\n",
            "reading manifest file 'liboqs_python.egg-info/SOURCES.txt'\n",
            "adding license file 'LICENSE'\n",
            "writing manifest file 'liboqs_python.egg-info/SOURCES.txt'\n",
            "running install\n",
            "/usr/local/lib/python3.10/dist-packages/setuptools/_distutils/cmd.py:66: SetuptoolsDeprecationWarning: setup.py install is deprecated.\n",
            "!!\n",
            "\n",
            "        ********************************************************************************\n",
            "        Please avoid running ``setup.py`` directly.\n",
            "        Instead, use pypa/build, pypa/installer or other\n",
            "        standards-based tools.\n",
            "\n",
            "        See https://blog.ganssle.io/articles/2021/10/setup-py-deprecated.html for details.\n",
            "        ********************************************************************************\n",
            "\n",
            "!!\n",
            "  self.initialize_options()\n",
            "/usr/local/lib/python3.10/dist-packages/setuptools/_distutils/cmd.py:66: EasyInstallDeprecationWarning: easy_install command is deprecated.\n",
            "!!\n",
            "\n",
            "        ********************************************************************************\n",
            "        Please avoid running ``setup.py`` and ``easy_install``.\n",
            "        Instead, use pypa/build, pypa/installer or other\n",
            "        standards-based tools.\n",
            "\n",
            "        See https://github.com/pypa/setuptools/issues/917 for details.\n",
            "        ********************************************************************************\n",
            "\n",
            "!!\n",
            "  self.initialize_options()\n",
            "running bdist_egg\n",
            "running egg_info\n",
            "writing liboqs_python.egg-info/PKG-INFO\n",
            "writing dependency_links to liboqs_python.egg-info/dependency_links.txt\n",
            "writing requirements to liboqs_python.egg-info/requires.txt\n",
            "writing top-level names to liboqs_python.egg-info/top_level.txt\n",
            "reading manifest file 'liboqs_python.egg-info/SOURCES.txt'\n",
            "adding license file 'LICENSE'\n",
            "writing manifest file 'liboqs_python.egg-info/SOURCES.txt'\n",
            "installing library code to build/bdist.linux-x86_64/egg\n",
            "running install_lib\n",
            "running build_py\n",
            "copying oqs/__init__.py -> build/lib/oqs\n",
            "copying oqs/rand.py -> build/lib/oqs\n",
            "copying oqs/oqs.py -> build/lib/oqs\n",
            "creating build/bdist.linux-x86_64/egg\n",
            "creating build/bdist.linux-x86_64/egg/oqs\n",
            "copying build/lib/oqs/__init__.py -> build/bdist.linux-x86_64/egg/oqs\n",
            "copying build/lib/oqs/rand.py -> build/bdist.linux-x86_64/egg/oqs\n",
            "copying build/lib/oqs/oqs.py -> build/bdist.linux-x86_64/egg/oqs\n",
            "byte-compiling build/bdist.linux-x86_64/egg/oqs/__init__.py to __init__.cpython-310.pyc\n",
            "byte-compiling build/bdist.linux-x86_64/egg/oqs/rand.py to rand.cpython-310.pyc\n",
            "byte-compiling build/bdist.linux-x86_64/egg/oqs/oqs.py to oqs.cpython-310.pyc\n",
            "creating build/bdist.linux-x86_64/egg/EGG-INFO\n",
            "copying liboqs_python.egg-info/PKG-INFO -> build/bdist.linux-x86_64/egg/EGG-INFO\n",
            "copying liboqs_python.egg-info/SOURCES.txt -> build/bdist.linux-x86_64/egg/EGG-INFO\n",
            "copying liboqs_python.egg-info/dependency_links.txt -> build/bdist.linux-x86_64/egg/EGG-INFO\n",
            "copying liboqs_python.egg-info/requires.txt -> build/bdist.linux-x86_64/egg/EGG-INFO\n",
            "copying liboqs_python.egg-info/top_level.txt -> build/bdist.linux-x86_64/egg/EGG-INFO\n",
            "zip_safe flag not set; analyzing archive contents...\n",
            "creating dist\n",
            "creating 'dist/liboqs_python-0.10.0-py3.10.egg' and adding 'build/bdist.linux-x86_64/egg' to it\n",
            "removing 'build/bdist.linux-x86_64/egg' (and everything under it)\n",
            "Processing liboqs_python-0.10.0-py3.10.egg\n",
            "Copying liboqs_python-0.10.0-py3.10.egg to /usr/local/lib/python3.10/dist-packages\n",
            "Adding liboqs-python 0.10.0 to easy-install.pth file\n",
            "\n",
            "Installed /usr/local/lib/python3.10/dist-packages/liboqs_python-0.10.0-py3.10.egg\n",
            "Processing dependencies for liboqs-python==0.10.0\n",
            "Searching for nose2\n",
            "Reading https://pypi.org/simple/nose2/\n",
            "Downloading https://files.pythonhosted.org/packages/87/e6/6babe53a1dbfa55f6d30eb7408f4c4994658e5f27e3dbbb2b437912e5a32/nose2-0.15.1-py3-none-any.whl#sha256=564450c0c4f1602dfe171902ceb4726cc56658af7a620ae1826f1ffc86b09a86\n",
            "Best match: nose2 0.15.1\n",
            "Processing nose2-0.15.1-py3-none-any.whl\n",
            "Installing nose2-0.15.1-py3-none-any.whl to /usr/local/lib/python3.10/dist-packages\n",
            "Adding nose2 0.15.1 to easy-install.pth file\n",
            "detected new path './liboqs_python-0.10.0-py3.10.egg'\n",
            "Installing nose2 script to /usr/local/bin\n",
            "\n",
            "Installed /usr/local/lib/python3.10/dist-packages/nose2-0.15.1-py3.10.egg\n",
            "Finished processing dependencies for liboqs-python==0.10.0\n"
          ]
        }
      ]
    },
    {
      "cell_type": "code",
      "source": [
        "!pip install pycryptodome"
      ],
      "metadata": {
        "colab": {
          "base_uri": "https://localhost:8080/"
        },
        "id": "WQjT5oXpE4SK",
        "outputId": "dd90cd7b-128a-4bd5-eed7-0098efcbe598"
      },
      "execution_count": null,
      "outputs": [
        {
          "output_type": "stream",
          "name": "stdout",
          "text": [
            "Collecting pycryptodome\n",
            "  Downloading pycryptodome-3.21.0-cp36-abi3-manylinux_2_17_x86_64.manylinux2014_x86_64.whl.metadata (3.4 kB)\n",
            "Downloading pycryptodome-3.21.0-cp36-abi3-manylinux_2_17_x86_64.manylinux2014_x86_64.whl (2.3 MB)\n",
            "\u001b[2K   \u001b[90m━━━━━━━━━━━━━━━━━━━━━━━━━━━━━━━━━━━━━━━━\u001b[0m \u001b[32m2.3/2.3 MB\u001b[0m \u001b[31m21.1 MB/s\u001b[0m eta \u001b[36m0:00:00\u001b[0m\n",
            "\u001b[?25hInstalling collected packages: pycryptodome\n",
            "Successfully installed pycryptodome-3.21.0\n"
          ]
        }
      ]
    },
    {
      "cell_type": "code",
      "source": [
        "import oqs\n",
        "import string\n",
        "import random\n",
        "from Crypto.Cipher import AES"
      ],
      "metadata": {
        "id": "NOPq2uiV0ytH",
        "colab": {
          "base_uri": "https://localhost:8080/"
        },
        "outputId": "66693230-004b-448c-aebe-bcba744ed842"
      },
      "execution_count": null,
      "outputs": [
        {
          "output_type": "stream",
          "name": "stdout",
          "text": [
            "liboqs not found, installing it in /root/_oqs\n",
            "5 4 3 2 1 \n",
            "Done installing liboqs\n"
          ]
        }
      ]
    },
    {
      "cell_type": "code",
      "source": [
        "class KEMSigner:\n",
        "  def __init__(self):\n",
        "    self.sigalg = \"Dilithium2\"\n",
        "    self.signer = oqs.Signature(self.sigalg)\n",
        "    self.sig_public_key = None\n",
        "    self.kemalg = \"Kyber512\"\n",
        "    self.kem = oqs.KeyEncapsulation(self.kemalg)\n",
        "    self.kem_public_key = None\n",
        "    self.kem_shared_secret = None\n",
        "    self.ttl = None\n",
        "\n",
        "  def genSigKeypair(self):\n",
        "    self.sig_public_key = self.signer.generate_keypair()\n",
        "\n",
        "  def genKemKeypair(self):\n",
        "    self.kem_public_key = self.kem.generate_keypair()\n",
        "\n",
        "  def signMessage(self,message):\n",
        "      return self.signer.sign(message)\n",
        "\n",
        "  def verifyMessage(self,message,signature,public_key):\n",
        "    return self.signer.verify(message,signature,public_key)\n",
        "\n",
        "  def encap(self, public_key):\n",
        "    ciphertext, self.kem_shared_secret = self.kem.encap_secret(public_key)\n",
        "    return ciphertext\n",
        "\n",
        "  def decap(self, ciphertext):\n",
        "    self.kem_shared_secret = self.kem.decap_secret(ciphertext)\n",
        "    return self.kem_shared_secret"
      ],
      "metadata": {
        "id": "lPfrALV6hKdY"
      },
      "execution_count": null,
      "outputs": []
    },
    {
      "cell_type": "code",
      "source": [
        "def AESEncrypt(key, message):\n",
        "  cipher = AES.new(key, AES.MODE_EAX)\n",
        "  nonce = cipher.nonce\n",
        "  ciphertext, tag = cipher.encrypt_and_digest(message)\n",
        "\n",
        "  return ciphertext, tag, nonce\n",
        "\n",
        "def AESDecrypt(key, ciphertext, nonce):\n",
        "  cipher = AES.new(key, AES.MODE_EAX, nonce=nonce)\n",
        "  plaintext = cipher.decrypt(ciphertext)\n",
        "\n",
        "  return plaintext"
      ],
      "metadata": {
        "id": "yCCysQZTIUoy"
      },
      "execution_count": null,
      "outputs": []
    },
    {
      "cell_type": "code",
      "source": [
        "def main():\n",
        "  # Server generates random challenge\n",
        "  N = 7\n",
        "  message = ''.join(random.choices(string.ascii_uppercase + string.digits, k=N))\n",
        "  print(message)\n",
        "  message = message.encode()\n",
        "  print(message)\n",
        "\n",
        "  # Initialize client/server + keypairs\n",
        "  client = KEMSigner()\n",
        "  client.genSigKeypair()\n",
        "  client.genKemKeypair()\n",
        "  server = KEMSigner()\n",
        "  server.genSigKeypair()\n",
        "  server.genKemKeypair()\n",
        "\n",
        "  ## CHALLENGE\n",
        "  # Server sends KEM ciphertext\n",
        "  kem_cipher = server.encap(client.kem_public_key)\n",
        "  # Client now gets shared secret\n",
        "  client.decap(kem_cipher)\n",
        "\n",
        "  print(f\"Verify shared secret is the same: {server.kem_shared_secret == client.kem_shared_secret}\")\n",
        "\n",
        "  # Server sends encrypted challenge\n",
        "  ciphertext, tag, nonce = AESEncrypt(server.kem_shared_secret, message)\n",
        "\n",
        "  # Client decrypts\n",
        "  challenge = AESDecrypt(client.kem_shared_secret, ciphertext, nonce)\n",
        "  # Client signs decrypted challenge and sends its back\n",
        "  cli_signature = client.signMessage(challenge)\n",
        "  # Server verifies client signature\n",
        "  auth_cli = server.verifyMessage(message,cli_signature,client.sig_public_key)\n",
        "\n",
        "  print(f\"Verify user: {auth_cli}\")\n",
        "\n",
        "main()"
      ],
      "metadata": {
        "colab": {
          "base_uri": "https://localhost:8080/"
        },
        "id": "rsSDgauRWABO",
        "outputId": "13f46cf2-9191-48e9-c799-69eedb7c4ee0"
      },
      "execution_count": null,
      "outputs": [
        {
          "output_type": "stream",
          "name": "stdout",
          "text": [
            "GX9HN0V\n",
            "b'GX9HN0V'\n",
            "Verify shared secret is the same: True\n",
            "Verify user: True\n"
          ]
        }
      ]
    }
  ]
}